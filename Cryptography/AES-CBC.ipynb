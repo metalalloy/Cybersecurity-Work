{
 "cells": [
  {
   "cell_type": "markdown",
   "id": "e50f9546",
   "metadata": {},
   "source": [
    "# Sample Implementation of AES in CBC-mode\n",
    "Secret 1: I don't like vegetables\\\n",
    "Password: Unhealthy\\\n",
    "Ciphertext: b00d9978726acf0978c470b84de0a758f3adc082e4a7bd9159dce3a66f2d613758e9228b581e980c50a274608a259ffc0931cd7a6532d99ecd6594ce1dfc471f\n",
    "\n",
    "Encrypted Secret 2: 7e55185da4f2c9589a571bac38ba0c8164bb8dd8e1bacba0bd99166123d3b0de8e455827fa56c7378a55cc1256a5ffbe3a8140e3ed2f9f276049ee28635b477d"
   ]
  },
  {
   "cell_type": "code",
   "execution_count": 14,
   "id": "35b003af",
   "metadata": {},
   "outputs": [
    {
     "name": "stdout",
     "output_type": "stream",
     "text": [
      "Choose mode: (1) Encrypt (2) Decrypt: 2\n",
      "Enter the encrypted data (hex): b00d9978726acf0978c470b84de0a758f3adc082e4a7bd9159dce3a66f2d613758e9228b581e980c50a274608a259ffc0931cd7a6532d99ecd6594ce1dfc471f\n",
      "Enter your password: Unhealthy\n",
      "Secret Message: I don't like vegetables\n"
     ]
    }
   ],
   "source": [
    "import os\n",
    "from cryptography.hazmat.primitives.kdf.pbkdf2 import PBKDF2HMAC\n",
    "from cryptography.hazmat.primitives import hashes\n",
    "from cryptography.hazmat.backends import default_backend\n",
    "from cryptography.hazmat.primitives import serialization\n",
    "from cryptography.hazmat.primitives import padding\n",
    "from cryptography.hazmat.primitives.ciphers import Cipher, algorithms, modes\n",
    "\n",
    "def generate_key(password, salt):\n",
    "    #Generate key using PBKDF2-HMAC algo with SHA-256 hashing function (salt included)\n",
    "    kdf = PBKDF2HMAC(\n",
    "        algorithm=hashes.SHA256(),\n",
    "        length=16,\n",
    "        salt=salt,\n",
    "        iterations=100000,\n",
    "        backend=default_backend()\n",
    "    )\n",
    "    return kdf.derive(password.encode())\n",
    "\n",
    "def encrypt(secret, password):\n",
    "    #AES in CBC-mode\n",
    "    #Generate salt\n",
    "    salt = os.urandom(16)\n",
    "    key = generate_key(password, salt)\n",
    "    padder = padding.PKCS7(algorithms.AES.block_size).padder()\n",
    "    padded_data = padder.update(secret.encode()) + padder.finalize()\n",
    "    #Generate random initialisation vector\n",
    "    init_vector = os.urandom(16)\n",
    "    cipher = Cipher(algorithms.AES(key), modes.CBC(init_vector), backend=default_backend())\n",
    "    encryptor = cipher.encryptor()\n",
    "    ciphertext = encryptor.update(padded_data) + encryptor.finalize()\n",
    "    #concat encrypted message + salt + initialisation vector\n",
    "    return ciphertext + salt + init_vector\n",
    "\n",
    "def decrypt(encrypted_data, password):\n",
    "    #Extract ciphertext,salt and iv according to index\n",
    "    ciphertext = encrypted_data[:-(16+16)] \n",
    "    salt = encrypted_data[-(16+16):-16]\n",
    "    init_vector = encrypted_data[-16:]\n",
    "    #regenerate the same key used to encrypt\n",
    "    key = generate_key(password, salt)\n",
    "    cipher = Cipher(algorithms.AES(key), modes.CBC(init_vector), backend=default_backend())\n",
    "    decryptor = cipher.decryptor()\n",
    "    decrypted_data = decryptor.update(ciphertext) + decryptor.finalize()\n",
    "    unpadder = padding.PKCS7(algorithms.AES.block_size).unpadder()\n",
    "    return unpadder.update(decrypted_data) + unpadder.finalize()\n",
    "\n",
    "def main():\n",
    "    mode = input(\"Choose mode: (1) Encrypt (2) Decrypt: \")\n",
    "    if mode == '1':\n",
    "        secret = input(\"Enter your secret: \")\n",
    "        password = input(\"Enter your password: \")\n",
    "        encrypted_data = encrypt(secret, password)\n",
    "        #Converting to hexadecimal format makes it easier to store/copy\n",
    "        print(\"Encrypted data (in hex):\", encrypted_data.hex())\n",
    "    elif mode == '2':\n",
    "        encrypted_data_hex = input(\"Enter the encrypted data (hex): \")\n",
    "        #Convert the data from hexadecimal to bytes\n",
    "        encrypted_data = bytes.fromhex(encrypted_data_hex)\n",
    "        password = input(\"Enter your password: \")\n",
    "        decrypted_secret = decrypt(encrypted_data, password)\n",
    "        print(\"Secret Message:\", decrypted_secret.decode())\n",
    "    else:\n",
    "        print(\"Invalid Input\")\n",
    "\n",
    "if __name__ == \"__main__\":\n",
    "    main()"
   ]
  },
  {
   "cell_type": "code",
   "execution_count": null,
   "id": "a6a8c01e",
   "metadata": {},
   "outputs": [],
   "source": []
  }
 ],
 "metadata": {
  "kernelspec": {
   "display_name": "Python 3 (ipykernel)",
   "language": "python",
   "name": "python3"
  },
  "language_info": {
   "codemirror_mode": {
    "name": "ipython",
    "version": 3
   },
   "file_extension": ".py",
   "mimetype": "text/x-python",
   "name": "python",
   "nbconvert_exporter": "python",
   "pygments_lexer": "ipython3",
   "version": "3.9.7"
  }
 },
 "nbformat": 4,
 "nbformat_minor": 5
}
